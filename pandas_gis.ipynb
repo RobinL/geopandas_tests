{
 "cells": [
  {
   "cell_type": "code",
   "execution_count": null,
   "metadata": {},
   "outputs": [],
   "source": [
    "import pandas as pd \n",
    "import geopandas\n",
    "from shapely.geometry import Point\n",
    "# df = pd.read_parquet(\"s3://alpha-everyone/platform_demos/performance/natstats_postcodes.parquet\")\n",
    "# dfs = df.sample(1000)\n",
    "# dfs.to_parquet(\"postcodes.parquet\")\n",
    "postcodes = pd.read_parquet(\"postcodes.parquet\")"
   ]
  },
  {
   "cell_type": "code",
   "execution_count": null,
   "metadata": {},
   "outputs": [],
   "source": [
    "postcodes.head()"
   ]
  },
  {
   "cell_type": "code",
   "execution_count": null,
   "metadata": {},
   "outputs": [],
   "source": [
    "postcodes[\"coords\"] = list(zip(postcodes.LONG, postcodes.LAT))\n",
    "postcodes['geometry'] = postcodes['coords'].apply(Point)"
   ]
  },
  {
   "cell_type": "code",
   "execution_count": null,
   "metadata": {},
   "outputs": [],
   "source": [
    "geopostcodes = geopandas.GeoDataFrame(postcodes, geometry='geometry')"
   ]
  },
  {
   "cell_type": "code",
   "execution_count": null,
   "metadata": {},
   "outputs": [],
   "source": []
  },
  {
   "cell_type": "code",
   "execution_count": null,
   "metadata": {},
   "outputs": [],
   "source": []
  },
  {
   "cell_type": "code",
   "execution_count": null,
   "metadata": {},
   "outputs": [],
   "source": [
    "# http://geoportal.statistics.gov.uk/datasets/local-authority-districts-december-2016-generalised-clipped-boundaries-in-the-uk?geometry=-83.187%2C45.365%2C135.134%2C63.013\n",
    "import tempfile\n",
    "from urllib.request import urlretrieve\n",
    "import zipfile\n",
    "import os\n",
    "\n",
    "tempdir = tempfile.TemporaryDirectory()\n",
    "tempfile = tempfile.NamedTemporaryFile()\n",
    "\n",
    "url = \"https://opendata.arcgis.com/datasets/7ff28788e1e640de8150fb8f35703f6e_2.zip\"\n",
    "zipped_shp = urlretrieve(url, tempfile.name)\n",
    "\n",
    "with zipfile.ZipFile(zipped_shp[0],\"r\") as zip_ref:\n",
    "    zip_ref.extractall(tempdir.name)\n",
    "\n",
    "shapefile_name = [f for f in os.listdir(tempdir.name) if f.endswith(\"shp\")][0]\n",
    "shapefile_path = os.path.join(tempdir.name, shapefile_name)\n",
    "\n",
    "uk_lad_2016 = geopandas.read_file(shapefile_path)\n",
    "\n",
    "uk_lad_2016[\"geometry\"].plot(figsize=(10,10))"
   ]
  },
  {
   "cell_type": "code",
   "execution_count": null,
   "metadata": {},
   "outputs": [],
   "source": [
    "gpc = geopostcodes[[\"PCD\", \"geometry\"]]\n",
    "print(len(gpc))\n",
    "gpc.head()"
   ]
  },
  {
   "cell_type": "code",
   "execution_count": null,
   "metadata": {},
   "outputs": [],
   "source": [
    "joined = geopandas.sjoin(geopostcodes, uk_lad_2016, op='within', how='left')"
   ]
  },
  {
   "cell_type": "code",
   "execution_count": null,
   "metadata": {},
   "outputs": [],
   "source": [
    "joined[pd.isnull(joined[\"lad16cd\"])].T"
   ]
  },
  {
   "cell_type": "code",
   "execution_count": null,
   "metadata": {},
   "outputs": [],
   "source": [
    "joined.head().T"
   ]
  },
  {
   "cell_type": "code",
   "execution_count": null,
   "metadata": {},
   "outputs": [],
   "source": []
  }
 ],
 "metadata": {
  "kernelspec": {
   "display_name": "Python 3",
   "language": "python",
   "name": "python3"
  },
  "language_info": {
   "codemirror_mode": {
    "name": "ipython",
    "version": 3
   },
   "file_extension": ".py",
   "mimetype": "text/x-python",
   "name": "python",
   "nbconvert_exporter": "python",
   "pygments_lexer": "ipython3",
   "version": "3.6.4"
  }
 },
 "nbformat": 4,
 "nbformat_minor": 2
}
